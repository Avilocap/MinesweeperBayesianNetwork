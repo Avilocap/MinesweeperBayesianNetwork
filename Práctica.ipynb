{
 "cells": [
  {
   "cell_type": "markdown",
   "metadata": {},
   "source": [
    "# Modelo de la alarma"
   ]
  },
  {
   "cell_type": "markdown",
   "metadata": {},
   "source": [
    "El paquete de _Python_ [pgmpy](http://pgmpy.org) proporciona un marco de trabajo para las redes bayesianas."
   ]
  },
  {
   "cell_type": "markdown",
   "metadata": {},
   "source": [
    "En primer lugar, importamos los mÃ³dulos necesarios:"
   ]
  },
  {
   "cell_type": "code",
   "execution_count": 1,
   "metadata": {},
   "outputs": [],
   "source": [
    "import networkx  # Permite trabajar con grafos\n",
    "import pgmpy.models as pgmm  # Modelos grÃ¡ficos de probabilidad\n",
    "import pgmpy.factors.discrete as pgmf  # Tablas de probabilidades condicionales y\n",
    "                                       # factores de probabilidad\n",
    "import pgmpy.inference as pgmi  # Inferencia probabilÃ­stica exacta"
   ]
  },
  {
   "cell_type": "markdown",
   "metadata": {},
   "source": [
    "Para definir la red bayesiana del modelo de la alarma visto en clase construimos primero el DAG asociado."
   ]
  },
  {
   "cell_type": "code",
   "execution_count": 2,
   "metadata": {},
   "outputs": [],
   "source": [
    "Modelo_alarma = pgmm.BayesianModel()\n",
    "Modelo_alarma.add_nodes_from(['Robo', 'Terremoto', 'Alarma', 'Llamada', 'Noticia'])\n",
    "Modelo_alarma.add_edges_from([('Robo', 'Alarma'),\n",
    "                              ('Terremoto', 'Alarma'),\n",
    "                              ('Alarma', 'Llamada'),\n",
    "                              ('Terremoto', 'Noticia')])"
   ]
  },
  {
   "cell_type": "markdown",
   "metadata": {},
   "source": [
    "TambiÃ©n se podrÃ­an haber proporcionado las aristas directamente al crear la instancia de la clase `BayesianModel`, en cuyo caso los vÃ©rtices se crean automÃ¡ticamente a partir de ellas."
   ]
  },
  {
   "cell_type": "code",
   "execution_count": 3,
   "metadata": {},
   "outputs": [],
   "source": [
    "Modelo_alarma = pgmm.BayesianModel([('Robo', 'Alarma'),\n",
    "                                    ('Terremoto', 'Alarma'),\n",
    "                                    ('Alarma', 'Llamada'),\n",
    "                                    ('Terremoto', 'Noticia')])"
   ]
  },
  {
   "cell_type": "markdown",
   "metadata": {},
   "source": [
    "Podemos comprobar cuÃ¡les son los vÃ©rtices y las aristas de la componente cualitativa de la red bayesiana."
   ]
  },
  {
   "cell_type": "code",
   "execution_count": 4,
   "metadata": {},
   "outputs": [
    {
     "data": {
      "text/plain": [
       "NodeView(('Llamada', 'Robo', 'Terremoto', 'Alarma', 'Noticia'))"
      ]
     },
     "execution_count": 4,
     "metadata": {},
     "output_type": "execute_result"
    }
   ],
   "source": [
    "Modelo_alarma.nodes()"
   ]
  },
  {
   "cell_type": "code",
   "execution_count": 5,
   "metadata": {},
   "outputs": [
    {
     "data": {
      "text/plain": [
       "OutEdgeView([('Robo', 'Alarma'), ('Terremoto', 'Alarma'), ('Terremoto', 'Noticia'), ('Alarma', 'Llamada')])"
      ]
     },
     "execution_count": 5,
     "metadata": {},
     "output_type": "execute_result"
    }
   ],
   "source": [
    "Modelo_alarma.edges()\n",
    "\n",
    "#Una vez definido el grafo, definimos la relación entre nodos (aristas)"
   ]
  },
  {
   "cell_type": "markdown",
   "metadata": {},
   "source": [
    "A continuaciÃ³n, asociamos a cada variable de la red una distribuciÃ³n de probabilidad condicional. Hay que tener en cuenta que el paquete _pgmpy_ asume que los valores de una variable que puede tomar $n$ valores son los nÃºmeros de 0 a $n - 1$."
   ]
  },
  {
   "cell_type": "markdown",
   "metadata": {},
   "source": [
    "Para cada variable creamos una instancia de la clase `TabularCPD`, proporcionando:\n",
    "* el nombre de la variable (atributo `variable`),\n",
    "* la cantidad de valores (cardinalidad) que puede tomar (atributo `variable_card`),\n",
    "* una lista de listas, conteniendo cada una de estas las probabilidades para un valor concreto, segÃºn los valores de los padres (atributo `values`, el valor se transforma a un array),\n",
    "* una lista con los nombres de los padres (atributo `evidence`, valor `None` si no se proporciona),\n",
    "* una lista con la cantidad de valores (cardinalidad) que puede tomar cada uno de los padres (atributo `evidence_card`, valor `None` si no se proporciona)."
   ]
  },
  {
   "cell_type": "code",
   "execution_count": 6,
   "metadata": {},
   "outputs": [
    {
     "name": "stdout",
     "output_type": "stream",
     "text": [
      "╒═══════════╤═════════════╤═════════════╤═════════════╤═════════════╕\n",
      "│ Robo      │ Robo_0      │ Robo_0      │ Robo_1      │ Robo_1      │\n",
      "├───────────┼─────────────┼─────────────┼─────────────┼─────────────┤\n",
      "│ Terremoto │ Terremoto_0 │ Terremoto_1 │ Terremoto_0 │ Terremoto_1 │\n",
      "├───────────┼─────────────┼─────────────┼─────────────┼─────────────┤\n",
      "│ Alarma_0  │ 0.99        │ 0.1         │ 0.1         │ 0.01        │\n",
      "├───────────┼─────────────┼─────────────┼─────────────┼─────────────┤\n",
      "│ Alarma_1  │ 0.01        │ 0.9         │ 0.9         │ 0.99        │\n",
      "╘═══════════╧═════════════╧═════════════╧═════════════╧═════════════╛\n"
     ]
    }
   ],
   "source": [
    "#Añadimos las probabilidades, el tercer parámetro es una lista de nodos padre con su cardinalidad, [Robo,Terremoto] Los valores metidos \n",
    "#los valores .XX son los valores de probabilidad para 00,01,10,11. Podemos ver la info en forma de tabla.\n",
    "Alarma_CPD = pgmf.TabularCPD('Alarma', 2, [[.99, .1, .1, .01], [.01, .9, .9, .99]],\n",
    "                             ['Robo', 'Terremoto'], [2, 2])\n",
    "print(Alarma_CPD)"
   ]
  },
  {
   "cell_type": "code",
   "execution_count": 7,
   "metadata": {},
   "outputs": [
    {
     "name": "stdout",
     "output_type": "stream",
     "text": [
      "╒════════╤═════╕\n",
      "│ Robo_0 │ 0.9 │\n",
      "├────────┼─────┤\n",
      "│ Robo_1 │ 0.1 │\n",
      "╘════════╧═════╛\n"
     ]
    }
   ],
   "source": [
    "#Hacemos lo mismo con el resto de valores, robo no tiene padres\n",
    "Robo_CPD = pgmf.TabularCPD('Robo', 2, [[.9, .1]])\n",
    "print(Robo_CPD)"
   ]
  },
  {
   "cell_type": "code",
   "execution_count": 8,
   "metadata": {},
   "outputs": [
    {
     "name": "stdout",
     "output_type": "stream",
     "text": [
      "╒═════════════╤══════╕\n",
      "│ Terremoto_0 │ 0.99 │\n",
      "├─────────────┼──────┤\n",
      "│ Terremoto_1 │ 0.01 │\n",
      "╘═════════════╧══════╛\n"
     ]
    }
   ],
   "source": [
    "Terremoto_CPD = pgmf.TabularCPD('Terremoto', 2, [[.99, .01]])\n",
    "print(Terremoto_CPD)"
   ]
  },
  {
   "cell_type": "code",
   "execution_count": 9,
   "metadata": {},
   "outputs": [
    {
     "name": "stdout",
     "output_type": "stream",
     "text": [
      "╒═══════════╤═════════════╤═════════════╕\n",
      "│ Terremoto │ Terremoto_0 │ Terremoto_1 │\n",
      "├───────────┼─────────────┼─────────────┤\n",
      "│ Noticia_0 │ 0.999       │ 0.01        │\n",
      "├───────────┼─────────────┼─────────────┤\n",
      "│ Noticia_1 │ 0.001       │ 0.99        │\n",
      "╘═══════════╧═════════════╧═════════════╛\n"
     ]
    }
   ],
   "source": [
    "#el padre de noticia es terremoto, se lo definimos\n",
    "Noticia_CPD = pgmf.TabularCPD('Noticia', 2, [[.999, .01], [.001, .99]], ['Terremoto'], [2])\n",
    "print(Noticia_CPD)"
   ]
  },
  {
   "cell_type": "code",
   "execution_count": 10,
   "metadata": {},
   "outputs": [
    {
     "name": "stdout",
     "output_type": "stream",
     "text": [
      "╒═══════════╤══════════╤══════════╕\n",
      "│ Alarma    │ Alarma_0 │ Alarma_1 │\n",
      "├───────────┼──────────┼──────────┤\n",
      "│ Llamada_0 │ 0.99     │ 0.05     │\n",
      "├───────────┼──────────┼──────────┤\n",
      "│ Llamada_1 │ 0.01     │ 0.95     │\n",
      "╘═══════════╧══════════╧══════════╛\n"
     ]
    }
   ],
   "source": [
    "Llamada_CPD = pgmf.TabularCPD('Llamada', 2, [[.99, .05], [.01, .95]], ['Alarma'], [2])\n",
    "print(Llamada_CPD)"
   ]
  },
  {
   "cell_type": "code",
   "execution_count": 11,
   "metadata": {},
   "outputs": [
    {
     "name": "stdout",
     "output_type": "stream",
     "text": [
      "╒═══════════╤═════════════╤═════════════╤═════════════╤═════════════╕\n",
      "│ Robo      │ Robo_0      │ Robo_0      │ Robo_1      │ Robo_1      │\n",
      "├───────────┼─────────────┼─────────────┼─────────────┼─────────────┤\n",
      "│ Terremoto │ Terremoto_0 │ Terremoto_1 │ Terremoto_0 │ Terremoto_1 │\n",
      "├───────────┼─────────────┼─────────────┼─────────────┼─────────────┤\n",
      "│ Alarma_0  │ 0.99        │ 0.1         │ 0.1         │ 0.01        │\n",
      "├───────────┼─────────────┼─────────────┼─────────────┼─────────────┤\n",
      "│ Alarma_1  │ 0.01        │ 0.9         │ 0.9         │ 0.99        │\n",
      "╘═══════════╧═════════════╧═════════════╧═════════════╧═════════════╛\n",
      "╒════════╤═════╕\n",
      "│ Robo_0 │ 0.9 │\n",
      "├────────┼─────┤\n",
      "│ Robo_1 │ 0.1 │\n",
      "╘════════╧═════╛\n",
      "╒═════════════╤══════╕\n",
      "│ Terremoto_0 │ 0.99 │\n",
      "├─────────────┼──────┤\n",
      "│ Terremoto_1 │ 0.01 │\n",
      "╘═════════════╧══════╛\n",
      "╒═══════════╤═════════════╤═════════════╕\n",
      "│ Terremoto │ Terremoto_0 │ Terremoto_1 │\n",
      "├───────────┼─────────────┼─────────────┤\n",
      "│ Noticia_0 │ 0.999       │ 0.01        │\n",
      "├───────────┼─────────────┼─────────────┤\n",
      "│ Noticia_1 │ 0.001       │ 0.99        │\n",
      "╘═══════════╧═════════════╧═════════════╛\n",
      "╒═══════════╤══════════╤══════════╕\n",
      "│ Alarma    │ Alarma_0 │ Alarma_1 │\n",
      "├───────────┼──────────┼──────────┤\n",
      "│ Llamada_0 │ 0.99     │ 0.05     │\n",
      "├───────────┼──────────┼──────────┤\n",
      "│ Llamada_1 │ 0.01     │ 0.95     │\n",
      "╘═══════════╧══════════╧══════════╛\n"
     ]
    }
   ],
   "source": [
    "#Distribuciones de probabilidad condicional CPDS en inglés.\n",
    "#Así lo añadimos al modelo\n",
    "#AÃ±adimos los cpds al modelo\n",
    "Modelo_alarma.add_cpds(Alarma_CPD, Robo_CPD, Terremoto_CPD, Noticia_CPD, Llamada_CPD)\n",
    "# Los imprimimos:\n",
    "for m in Modelo_alarma.cpds: print(m)"
   ]
  },
  {
   "cell_type": "markdown",
   "metadata": {},
   "source": [
    "### d-separaciÃ³n"
   ]
  },
  {
   "cell_type": "markdown",
   "metadata": {},
   "source": [
    "Con el mÃ©todo `is_active_trail` podemos comprobar si una variable es __condicionalmente dependiente__ de otra, dada una evidencia."
   ]
  },
  {
   "cell_type": "code",
   "execution_count": 12,
   "metadata": {},
   "outputs": [
    {
     "name": "stdout",
     "output_type": "stream",
     "text": [
      "True\n",
      "False\n",
      "True\n",
      "False\n",
      "False\n",
      "True\n",
      "True\n"
     ]
    }
   ],
   "source": [
    "print(Modelo_alarma.is_active_trail('Robo', 'Llamada'))\n",
    "#Robo es dependiente de llamada conociendo alarma?\n",
    "print(Modelo_alarma.is_active_trail('Robo', 'Llamada', 'Alarma'))\n",
    "print(Modelo_alarma.is_active_trail('Alarma', 'Noticia'))\n",
    "print(Modelo_alarma.is_active_trail('Alarma', 'Noticia', 'Terremoto'))\n",
    "print(Modelo_alarma.is_active_trail('Robo', 'Terremoto'))\n",
    "print(Modelo_alarma.is_active_trail('Robo', 'Terremoto', 'Alarma'))\n",
    "#lista de variables de evidencia\n",
    "print(Modelo_alarma.is_active_trail('Robo', 'Terremoto', ['Llamada', 'Noticia']))"
   ]
  },
  {
   "cell_type": "markdown",
   "metadata": {},
   "source": [
    "Podemos consultar cuÃ¡les son las variables __condicionalmente dependientes__ de una determinada variable, dada una evidencia."
   ]
  },
  {
   "cell_type": "code",
   "execution_count": 13,
   "metadata": {},
   "outputs": [
    {
     "name": "stdout",
     "output_type": "stream",
     "text": [
      "{'Robo': {'Llamada', 'Robo', 'Alarma'}}\n",
      "{'Robo': {'Robo', 'Terremoto', 'Noticia'}}\n",
      "{'Robo': {'Llamada', 'Robo', 'Alarma'}}\n",
      "{'Robo': {'Robo'}}\n"
     ]
    }
   ],
   "source": [
    "#Cuales son las dependiente de robo\n",
    "\n",
    "print(Modelo_alarma.active_trail_nodes('Robo'))\n",
    "#Dependientes de robo con evidencia de alarma\n",
    "print(Modelo_alarma.active_trail_nodes('Robo', 'Alarma'))\n",
    "print(Modelo_alarma.active_trail_nodes('Robo', 'Terremoto'))\n",
    "#Dependientes de robo con evidencia de alarma y terremoto, lista de evidencias de entrada.\n",
    "print(Modelo_alarma.active_trail_nodes('Robo', ['Alarma', 'Terremoto']))"
   ]
  },
  {
   "cell_type": "markdown",
   "metadata": {},
   "source": [
    "### Inferencia probabilÃ­stica exacta mediante eliminaciÃ³n de variables"
   ]
  },
  {
   "cell_type": "markdown",
   "metadata": {},
   "source": [
    "A continuaciÃ³n vamos a calcular, usando el algoritmo de eliminaciÃ³n de variables, la distribuciÃ³n de probabilidad de la variable Robo, dado que sabemos que Watson ha llamado a Holmes y que en la radio no han dado ninguna noticia de que se haya producido un terremoto."
   ]
  },
  {
   "cell_type": "markdown",
   "metadata": {},
   "source": [
    "Los factores iniciales serÃ¡n las tablas de probabilidad condicionales de la red bayesiana, reducidas segÃºn la evidencia. Eliminaremos primero la variable Terremoto y despuÃ©s la variable Alarma. Finalmente, multiplicaremos los factores restantes y normalizaremos."
   ]
  },
  {
   "cell_type": "markdown",
   "metadata": {},
   "source": [
    "Los factores se implementan como instancias de la clase `DiscreteFactor`. Para crear una instancia de un factor hay que proporcionar:\n",
    "1. El Ã¡mbito del factor como una lista de variables (atributo `variables`).\n",
    "2. Las cardinalidades de las variables del Ã¡mbito, como una lista (atributo `cardinality`).\n",
    "3. Los valores asociados a cada combinaciÃ³n de valores de las variables del Ã¡mbito, como una lista (atributo `values`). Para establecer la asociaciÃ³n debe tenerse en cuenta que los valores de las variables varÃ­an mÃ¡s rÃ¡pido desde la Ãºltima variable del Ã¡mbito hasta la primera.\n",
    "\n",
    "TambiÃ©n se puede obtener un factor a partir de una instancia de la clase `TabularCPD` mediante el mÃ©todo `to_factor` de esta Ãºltima."
   ]
  },
  {
   "cell_type": "code",
   "execution_count": 14,
   "metadata": {},
   "outputs": [
    {
     "name": "stdout",
     "output_type": "stream",
     "text": [
      "['Robo']\n",
      "╒════════╤═════════════╕\n",
      "│ Robo   │   phi(Robo) │\n",
      "╞════════╪═════════════╡\n",
      "│ Robo_0 │      0.9000 │\n",
      "├────────┼─────────────┤\n",
      "│ Robo_1 │      0.1000 │\n",
      "╘════════╧═════════════╛\n",
      "['Terremoto']\n",
      "╒═════════════╤══════════════════╕\n",
      "│ Terremoto   │   phi(Terremoto) │\n",
      "╞═════════════╪══════════════════╡\n",
      "│ Terremoto_0 │           0.9900 │\n",
      "├─────────────┼──────────────────┤\n",
      "│ Terremoto_1 │           0.0100 │\n",
      "╘═════════════╧══════════════════╛\n",
      "['Alarma', 'Robo', 'Terremoto']\n",
      "╒══════════╤════════╤═════════════╤══════════════════════════════╕\n",
      "│ Alarma   │ Robo   │ Terremoto   │   phi(Alarma,Robo,Terremoto) │\n",
      "╞══════════╪════════╪═════════════╪══════════════════════════════╡\n",
      "│ Alarma_0 │ Robo_0 │ Terremoto_0 │                       0.9900 │\n",
      "├──────────┼────────┼─────────────┼──────────────────────────────┤\n",
      "│ Alarma_0 │ Robo_0 │ Terremoto_1 │                       0.1000 │\n",
      "├──────────┼────────┼─────────────┼──────────────────────────────┤\n",
      "│ Alarma_0 │ Robo_1 │ Terremoto_0 │                       0.1000 │\n",
      "├──────────┼────────┼─────────────┼──────────────────────────────┤\n",
      "│ Alarma_0 │ Robo_1 │ Terremoto_1 │                       0.0100 │\n",
      "├──────────┼────────┼─────────────┼──────────────────────────────┤\n",
      "│ Alarma_1 │ Robo_0 │ Terremoto_0 │                       0.0100 │\n",
      "├──────────┼────────┼─────────────┼──────────────────────────────┤\n",
      "│ Alarma_1 │ Robo_0 │ Terremoto_1 │                       0.9000 │\n",
      "├──────────┼────────┼─────────────┼──────────────────────────────┤\n",
      "│ Alarma_1 │ Robo_1 │ Terremoto_0 │                       0.9000 │\n",
      "├──────────┼────────┼─────────────┼──────────────────────────────┤\n",
      "│ Alarma_1 │ Robo_1 │ Terremoto_1 │                       0.9900 │\n",
      "╘══════════╧════════╧═════════════╧══════════════════════════════╛\n",
      "['Terremoto']\n",
      "╒═════════════╤══════════════════╕\n",
      "│ Terremoto   │   phi(Terremoto) │\n",
      "╞═════════════╪══════════════════╡\n",
      "│ Terremoto_0 │           0.9990 │\n",
      "├─────────────┼──────────────────┤\n",
      "│ Terremoto_1 │           0.0100 │\n",
      "╘═════════════╧══════════════════╛\n",
      "['Alarma']\n",
      "╒══════════╤═══════════════╕\n",
      "│ Alarma   │   phi(Alarma) │\n",
      "╞══════════╪═══════════════╡\n",
      "│ Alarma_0 │        0.0100 │\n",
      "├──────────┼───────────────┤\n",
      "│ Alarma_1 │        0.9500 │\n",
      "╘══════════╧═══════════════╛\n"
     ]
    }
   ],
   "source": [
    "# Factores iniciales\n",
    "\n",
    "# Para cada variable, creamos su factor\n",
    "\n",
    "phi_R = Robo_CPD.to_factor()\n",
    "print(phi_R.scope())\n",
    "print(phi_R)\n",
    "\n",
    "phi_T = Terremoto_CPD.to_factor()\n",
    "print(phi_T.scope())\n",
    "print(phi_T)\n",
    "\n",
    "phi_A = Alarma_CPD.to_factor()\n",
    "print(phi_A.scope())\n",
    "print(phi_A)\n",
    "\n",
    "phi_N = Noticia_CPD.to_factor()\n",
    "phi_N.reduce([('Noticia', 0)])\n",
    "print(phi_N.scope())\n",
    "print(phi_N)\n",
    "\n",
    "phi_Ll = Llamada_CPD.to_factor()\n",
    "phi_Ll.reduce([('Llamada', 1)])\n",
    "print(phi_Ll.scope())\n",
    "print(phi_Ll)\n",
    "\n",
    "#"
   ]
  },
  {
   "cell_type": "code",
   "execution_count": 15,
   "metadata": {},
   "outputs": [
    {
     "name": "stdout",
     "output_type": "stream",
     "text": [
      "['Robo', 'Alarma']\n",
      "╒════════╤══════════╤════════════════════╕\n",
      "│ Robo   │ Alarma   │   phi(Robo,Alarma) │\n",
      "╞════════╪══════════╪════════════════════╡\n",
      "│ Robo_0 │ Alarma_0 │             0.9791 │\n",
      "├────────┼──────────┼────────────────────┤\n",
      "│ Robo_0 │ Alarma_1 │             0.0100 │\n",
      "├────────┼──────────┼────────────────────┤\n",
      "│ Robo_1 │ Alarma_0 │             0.0989 │\n",
      "├────────┼──────────┼────────────────────┤\n",
      "│ Robo_1 │ Alarma_1 │             0.8902 │\n",
      "╘════════╧══════════╧════════════════════╛\n"
     ]
    }
   ],
   "source": [
    "# Eliminamos la variable Terremoto\n",
    "\n",
    "phi_noT = phi_T * phi_A * phi_N\n",
    "phi_noT.marginalize(['Terremoto'])\n",
    "print(phi_noT.scope())\n",
    "print(phi_noT)"
   ]
  },
  {
   "cell_type": "code",
   "execution_count": 16,
   "metadata": {},
   "outputs": [
    {
     "name": "stdout",
     "output_type": "stream",
     "text": [
      "['Robo']\n",
      "╒════════╤═════════════╕\n",
      "│ Robo   │   phi(Robo) │\n",
      "╞════════╪═════════════╡\n",
      "│ Robo_0 │      0.0193 │\n",
      "├────────┼─────────────┤\n",
      "│ Robo_1 │      0.8467 │\n",
      "╘════════╧═════════════╛\n"
     ]
    }
   ],
   "source": [
    "# Eliminamos la variable Alarma\n",
    "\n",
    "phi_noA = phi_Ll * phi_noT\n",
    "phi_noA.marginalize(['Alarma'])\n",
    "print(phi_noA.scope())\n",
    "print(phi_noA)"
   ]
  },
  {
   "cell_type": "code",
   "execution_count": 17,
   "metadata": {},
   "outputs": [
    {
     "name": "stdout",
     "output_type": "stream",
     "text": [
      "╒════════╤═════════════╕\n",
      "│ Robo   │   phi(Robo) │\n",
      "╞════════╪═════════════╡\n",
      "│ Robo_0 │      0.1700 │\n",
      "├────────┼─────────────┤\n",
      "│ Robo_1 │      0.8300 │\n",
      "╘════════╧═════════════╛\n"
     ]
    }
   ],
   "source": [
    "# Multiplicamos los factores restantes y normalizamos\n",
    "\n",
    "phi = phi_R * phi_noA\n",
    "phi.normalize()\n",
    "print(phi)"
   ]
  },
  {
   "cell_type": "markdown",
   "metadata": {},
   "source": [
    "Todos los pasos anteriores constituyen el algoritmo de eliminaciÃ³n de variables, que, creando instancias de la clase `VariableElimination`, se puede aplicar de manera automÃ¡tica para realizar consultas en una red bayesiana.\n",
    "\n",
    "Una vez creada la instancia del algoritmo para una red bayesiana concreta, para realizar una consulta probabilÃ­stica hay que proporcionar los siguientes argumentos:\n",
    "* Una lista de las variables de consulta.\n",
    "* Un diccionario en el que se indique el valor conocido de cada variable de evidencia.\n",
    "* Opcionalmente, una lista del resto de variables indicando el orden de eliminaciÃ³n. Si no se proporciona, este Ãºltimo se determina automÃ¡ticamente."
   ]
  },
  {
   "cell_type": "code",
   "execution_count": 18,
   "metadata": {},
   "outputs": [
    {
     "name": "stdout",
     "output_type": "stream",
     "text": [
      "╒════════╤═════════════╕\n",
      "│ Robo   │   phi(Robo) │\n",
      "╞════════╪═════════════╡\n",
      "│ Robo_0 │      0.1700 │\n",
      "├────────┼─────────────┤\n",
      "│ Robo_1 │      0.8300 │\n",
      "╘════════╧═════════════╛\n"
     ]
    }
   ],
   "source": [
    "Modelo_alarma_ev = pgmi.VariableElimination(Modelo_alarma)\n",
    "consulta = Modelo_alarma_ev.query(['Robo'], {'Llamada': 1, 'Noticia': 0},\n",
    "                                  ['Terremoto', 'Alarma'])\n",
    "print(consulta['Robo'])\n",
    "\n",
    "#Tiene toda la pinta de que ha habido un robo"
   ]
  },
  {
   "cell_type": "markdown",
   "metadata": {},
   "source": [
    "# Inferencia probabilÃ­stica aproximada"
   ]
  },
  {
   "cell_type": "markdown",
   "metadata": {},
   "source": [
    "Una _muestra aleatoria_ de una red bayesiana es una asignaciÃ³n de valores a las variables de la red, con probabilidad de generaciÃ³n igual a la probabilidad conjunta de que las variables tomen esos valores."
   ]
  },
  {
   "cell_type": "markdown",
   "metadata": {},
   "source": [
    "__Ejercicio 1__: definir una funciÃ³n `muestra_aleatoria` que, dada una red bayesiana, devuelva una muestra aleatoria de la misma (como un diccionario).\n",
    "\n",
    "__Notas__:\n",
    "1. La funciÃ³n `topological_sort` del paquete `networkx` devuelve un orden topolÃ³gico de los vÃ©rtices de un DAG.\n",
    "2. El mÃ©todo `get_cpds` de la clase `BayesianModel` devuelve la instancia de la clase `TabularCPD` asociada a la variable proporcionada como argumento.\n",
    "3. Dados una instancia de la clase `TabularCPD`, un entero representando un valor _Val_ de la variable _Var_ asociada a ella y un diccionario representando una asignaciÃ³n de valores a variables, incluidos los padres de _Var_, la funciÃ³n `seleccionar_probabilidad` definida a continuaciÃ³n devuelve la probabilidad de que _Var_ tome el valor _Val_, condicionada a los valores de los padres de _Var_.\n",
    "4. Dados la cardinalidad _Card_ de una variable y una lista de probabilidades para cada entero entre $0$ y _Card_$ - 1$, la funciÃ³n `generar_valor_aleatorio` definida a continuaciÃ³n devuelve un entero aleatorio en ese rango generado segÃºn la probabilidad proporcionada."
   ]
  },
  {
   "cell_type": "code",
   "execution_count": 19,
   "metadata": {},
   "outputs": [],
   "source": [
    "import random\n",
    "\n",
    "def seleccionar_probabilidad(cpd, valor, evidencia):\n",
    "    padres = [v for v in cpd.variables if v != cpd.variable]\n",
    "    valores_evidencia = tuple(evidencia[var] for var in padres)\n",
    "    return cpd.values[valor][valores_evidencia]\n",
    "\n",
    "def generar_valor_aleatorio(cardinalidad, probabilidades):\n",
    "    p = random.random()\n",
    "    acumuladas = 0\n",
    "    for valor in range(cardinalidad):\n",
    "        acumuladas += probabilidades[valor]\n",
    "        if p <= acumuladas:\n",
    "            return valor"
   ]
  },
  {
   "cell_type": "markdown",
   "metadata": {},
   "source": [
    "**Muestra aleatoria**: asignaciÃ³n de valores a las variables, con probabilidad de generaciÃ³n segÃºn las probabilidades de la red.\n",
    "* $ð‘‹_{1}, ..., ð‘‹_{ð‘›}$ orden topolÃ³gico de las variables\n",
    "* para $ð‘–$ desde $1$ hasta $ð‘›$\n",
    "    * $ð‘¥_{ð‘–} \\leftarrow \\mathrm{Val}(ð‘‹_{ð‘–})$ segÃºn la distribuciÃ³n $\\mathbb{P}(ð‘‹_{ð‘–} | \\mathrm{pa}(ð‘‹_{ð‘–}))$\n",
    "    > Elegir un valor del dominio de $X_{i}$ teniendo en cuenta su distribuciÃ³n de probabilidad y que {$X_{1}: x_{1}, ..., X_{i-1}: x_{i-1}$}\n",
    "* fin para\n",
    "* devolver {$X_{1}: ð‘¥_{1}, ..., X_{n}: ð‘¥_{ð‘›}$}"
   ]
  },
  {
   "cell_type": "code",
   "execution_count": 20,
   "metadata": {},
   "outputs": [],
   "source": [
    "def muestra_aleatoria(red):\n",
    "    variables = networkx.topological_sort(red)\n",
    "    muestra = {}\n",
    "    for variables in variables:\n",
    "        cpd = red.get_cpds(variables)\n",
    "        probabilidades = [seleccionar_probabilidad(cpd,val,muestra)\n",
    "                         for val in range(cpd.variable_card)]\n",
    "        muestra[variable] = generar_valor_aleatorio(cpd,variable_card,probabilidades)\n",
    "        return muestra\n",
    "\n",
    "    random.seed(12345)\n",
    "    muestra_aleatoria(Modelo_alarma)\n",
    "    "
   ]
  },
  {
   "cell_type": "markdown",
   "metadata": {},
   "source": [
    "Dada una evidencia, una _muestra ponderada_ de una red bayesiana es una muestra aleatoria en la que los valores asignados a las variables son compatibles con la evidencia, junto con el peso asociado a esa muestra, es decir, la probabilidad de que se tenga la evidencia dados los valores generados del resto de variables."
   ]
  },
  {
   "cell_type": "markdown",
   "metadata": {},
   "source": [
    "**Muestra aleatoria ponderada**: generaciÃ³n compatible con la evidencia $Îµ$:\n",
    "* $ð‘‹_{1}, ..., ð‘‹_{ð‘›}$ orden topolÃ³gico de las variables\n",
    "* $ð‘¤ \\leftarrow 1$\n",
    "* para $ð‘–$ desde $1$ hasta $ð‘›$\n",
    "    * si $ð‘‹_{ð‘–}$ es de evidencia entonces\n",
    "        * $ð‘¥_{ð‘–} \\leftarrow Îµ[ð‘‹_{ð‘–}]$\n",
    "        * multiplicar $ð‘¤$ por $\\mathbb{P}(ð‘¥_{ð‘–} | \\mathrm{pa}(ð‘‹_{ð‘–}))$\n",
    "    * si no entonces\n",
    "        * $ð‘¥_{ð‘–} \\leftarrow \\mathrm{Val}(ð‘‹_{ð‘–})$ segÃºn la distribuciÃ³n $\\mathbb{P}(ð‘‹_{ð‘–} | \\mathrm{pa}(ð‘‹_{ð‘–}))$\n",
    "    * fin si\n",
    "* fin para\n",
    "* devolver ({$X_{1}: ð‘¥_{1}, ..., X_{n}: ð‘¥_{ð‘›}$}, $ð‘¤$)\n"
   ]
  },
  {
   "cell_type": "markdown",
   "metadata": {},
   "source": [
    "__Ejercicio 2__: definir una funciÃ³n `muestra_ponderada` que, dados una red bayesiana y una evidencia (como un diccionario que asigna valores a variables), devuelva una tupla cuyo primer elemento sea una muestra aleatoria de la red (como un diccionario) y cuyo segundo elemento sea el peso de la misma (como un nÃºmero real)."
   ]
  },
  {
   "cell_type": "code",
   "execution_count": 21,
   "metadata": {},
   "outputs": [],
   "source": [
    "def muestra_ponderada(red,evidencia):\n",
    "    pass"
   ]
  },
  {
   "cell_type": "markdown",
   "metadata": {},
   "source": [
    "__Ejercicio 3__: definir una funciÃ³n `muestreo_con_rechazo` que, dados una red bayesiana, unas variables de consulta (como una lista), una evidencia (como un diccionario) y un entero positivo $N$, devuelva la distribuciÃ³n de probabilidad conjunta (como una instancia de la clase `DiscreteFactor`) de las variables de consulta dada la evidencia, calculada mediante el algoritmo de muestreo con rechazo generando $N$ muestras aleatorias.\n",
    "\n",
    "__Notas__:\n",
    "1. ConsidÃ©rese el uso de la funciÃ³n `product` de la biblioteca estÃ¡ndar `itertools` para generar todas las combinaciones de valores de las variables de consulta.\n",
    "2. ConsidÃ©rese el uso del tipo de dato `Counter` de la biblioteca estÃ¡ndar `collections` para llevar el conteo de las frecuencias con las que han aparecido cada una de esas combinaciones en las muestras no rechazadas."
   ]
  },
  {
   "cell_type": "markdown",
   "metadata": {},
   "source": [
    "**Algoritmo de muestreo con rechazo**\n",
    "* $Ï• \\leftarrow$ potencial de Ã¡mbito $ð’€$ que asigna $0$ a cada combinaciÃ³n de valores\n",
    "> $Ï• \\leftarrow$ asociar 0 a cada combinaciÃ³n de valores para las variables de consulta\n",
    "* Generar $ð‘$ muestras aleatorias $ð‘’_{1}, \\dotsc, ð‘’_{ð‘}$\n",
    "> funciÃ³n `muestra_aleatoria` anterior\n",
    "* para cada muestra $ð‘’$ generada hacer\n",
    "    * si $ð‘’$ es compatible con $Îµ$ entonces\n",
    "        * incrementar $Ï•(ð‘’[ð’€])$ en 1\n",
    "        > modificar $Ï•$ incrementando en 1 el valor asociado a la combinaciÃ³n de valores para las variables de consulta que aparece en $ð‘’$\n",
    "    * si no entonces\n",
    "        * rechazar $ð‘’$\n",
    "    * fin si\n",
    "* fin para\n",
    "* devolver $Î·(Ï•)$\n",
    "> creamos el factor a partir $Ï•$ y normalizamos"
   ]
  },
  {
   "cell_type": "code",
   "execution_count": 22,
   "metadata": {},
   "outputs": [],
   "source": [
    "import itertools\n",
    "import collections\n",
    "\n",
    "def muestreo_con_rechazo(red,consulta,evidencia,n):\n",
    "    pass"
   ]
  },
  {
   "cell_type": "markdown",
   "metadata": {},
   "source": [
    "__Ejercicio 4__: definir una funciÃ³n `ponderaciÃ³n_por_verosimilitud` que, dados una red bayesiana, unas variables de consulta (como una lista), una evidencia (como un diccionario) y un entero positivo $N$, devuelva la distribuciÃ³n de probabilidad conjunta (como una instancia de la clase `DiscreteFactor`) de las variables de consulta dada la evidencia, calculada mediante el algoritmo de ponderaciÃ³n por verosimilitud generando $N$ muestras aleatorias."
   ]
  },
  {
   "cell_type": "markdown",
   "metadata": {},
   "source": [
    "**Algoritmo de ponderaciÃ³n por verosimilitud**\n",
    "* $Ï• \\leftarrow$ potencial de Ã¡mbito $ð’€$ que asigna $0$ a cada combinaciÃ³n de valores\n",
    "* Generar $ð‘$ muestras aleatorias ponderadas $(ð‘’_{1}, ð‘¤_{1}), ..., (ð‘’_{ð‘}, ð‘¤_{ð‘})$ compatibles con la evidencia\n",
    "> funciÃ³n `muestra_ponderada` anterior\n",
    "* para cada muestra $ð‘’_{ð‘–}$ generada hacer\n",
    "    * sumar $ð‘¤_{ð‘–}$ a $Ï•(ð‘’_{ð‘–}[ð’€])$\n",
    "    > modificar $Ï•$ incrementando en $ð‘¤_{ð‘–}$ el valor asociado a la combinaciÃ³n de valores para las variables de consulta que aparece en $ð‘’$\n",
    "* fin para\n",
    "* devolver $Î·(Ï•)$"
   ]
  },
  {
   "cell_type": "code",
   "execution_count": 23,
   "metadata": {},
   "outputs": [],
   "source": [
    "def ponderacion_por_verosimilitud(red,consulta,evidencia,n):\n",
    "    pass"
   ]
  },
  {
   "cell_type": "markdown",
   "metadata": {},
   "source": [
    "# EstimaciÃ³n del riesgo de una aseguradora de coches"
   ]
  },
  {
   "cell_type": "markdown",
   "metadata": {},
   "source": [
    "La siguiente red bayesiana modeliza un sistema experto para la estimaciÃ³n del riesgo de una asguradora de coches."
   ]
  },
  {
   "cell_type": "markdown",
   "metadata": {},
   "source": [
    "<img src='insurance.png' width=700 height=463>"
   ]
  },
  {
   "cell_type": "markdown",
   "metadata": {},
   "source": [
    "La red bayesiana se puede leer desde un fichero en formato BIF evaluando las siguientes expresiones:"
   ]
  },
  {
   "cell_type": "code",
   "execution_count": 24,
   "metadata": {},
   "outputs": [],
   "source": [
    "import pgmpy.readwrite.BIF as rwBIF\n",
    "\n",
    "reader = rwBIF.BIFReader('insurance.bif')\n",
    "Modelo_aseguradora = reader.get_model()"
   ]
  },
  {
   "cell_type": "markdown",
   "metadata": {},
   "source": [
    "Las variables se clasifican en tres tipos: variables de interÃ©s, variables observables y variables mediadoras.\n",
    "\n",
    "__Nota__: en lo que sigue se indica entre parÃ©ntesis el nombre de la variable tal y como aparece en el fichero, en aquellos casos en los que difiere del nombre que aparece en el grÃ¡fico.\n",
    "\n",
    "Las variables de interÃ©s son: MedicalCost (`MedCost`, coste mÃ©dico), LiabilityCost (`ILiCost`, coste de responsabilidad), PropertyCost (`PropCost`, coste de propiedad). Las tres variables pueden tomar como valores: miles (`Thousand`), diez miles (`TenThou`), cientos de miles (`HundredThou`) y millones (`Million`).\n",
    "\n",
    "Las variables observables son:\n",
    "* Age, con valores: `Adolescent`, `Adult`, `Senior`.\n",
    "* Mileage, con valores: `FiveThou`, `TwentyThou`, `FiftyThou`, `Domino`.\n",
    "* VehicleYear, con valores: `Current`, `Older`.\n",
    "* DrivingHist (`DrivHist`), con valores: `Zero`, `One`, `Many`.\n",
    "* DrivQuality, con valores: `Poor`, `Normal`, `Excellent`.\n",
    "* MakeModel, con valores: `SportsCar`, `Economy`, `FamilySedan`, `Luxury`, `SuperLuxury`.\n",
    "* HomeBase, con valores: `Secure`, `City`, `Suburb`, `Rural`.\n",
    "* GoodStudent, ExtraCar (`OtherCar`), SeniorTrain, Antilock y Airbag con valores: `True`, `False`.\n",
    "\n",
    "El resto de variables son variables mediadoras."
   ]
  },
  {
   "cell_type": "markdown",
   "metadata": {},
   "source": [
    "__Ejercicio 5__: definir una funciÃ³n `estimaciÃ³n_de_costes` que, dada una evidencia de una o mÃ¡s variables observables (como un diccionario), devuelva el valor mÃ¡s probable de cada variable de interÃ©s (como un diccionario)."
   ]
  },
  {
   "cell_type": "code",
   "execution_count": 25,
   "metadata": {},
   "outputs": [],
   "source": [
    "def estimacion_de_costes(evidencia):\n",
    "    pass"
   ]
  },
  {
   "cell_type": "code",
   "execution_count": 26,
   "metadata": {},
   "outputs": [],
   "source": [
    "estimacion_de_costes({'Age': 0,\n",
    "                      'Mileage': 3,\n",
    "                      'VehicleYear': 1,\n",
    "                      'DrivHist': 0,\n",
    "                      'DrivQuality': 0,\n",
    "                      'MakeModel': 0,\n",
    "                      'HomeBase': 0,\n",
    "                      'GoodStudent': 0})"
   ]
  },
  {
   "cell_type": "code",
   "execution_count": null,
   "metadata": {},
   "outputs": [],
   "source": []
  },
  {
   "cell_type": "code",
   "execution_count": null,
   "metadata": {},
   "outputs": [],
   "source": []
  },
  {
   "cell_type": "code",
   "execution_count": null,
   "metadata": {},
   "outputs": [],
   "source": []
  },
  {
   "cell_type": "code",
   "execution_count": null,
   "metadata": {},
   "outputs": [],
   "source": []
  },
  {
   "cell_type": "code",
   "execution_count": null,
   "metadata": {},
   "outputs": [],
   "source": []
  },
  {
   "cell_type": "code",
   "execution_count": null,
   "metadata": {},
   "outputs": [],
   "source": []
  },
  {
   "cell_type": "code",
   "execution_count": null,
   "metadata": {},
   "outputs": [],
   "source": []
  },
  {
   "cell_type": "code",
   "execution_count": null,
   "metadata": {},
   "outputs": [],
   "source": []
  },
  {
   "cell_type": "code",
   "execution_count": null,
   "metadata": {},
   "outputs": [],
   "source": []
  },
  {
   "cell_type": "code",
   "execution_count": null,
   "metadata": {},
   "outputs": [],
   "source": []
  },
  {
   "cell_type": "code",
   "execution_count": null,
   "metadata": {},
   "outputs": [],
   "source": []
  },
  {
   "cell_type": "code",
   "execution_count": null,
   "metadata": {},
   "outputs": [],
   "source": []
  },
  {
   "cell_type": "code",
   "execution_count": null,
   "metadata": {},
   "outputs": [],
   "source": []
  }
 ],
 "metadata": {
  "kernelspec": {
   "display_name": "Python 3",
   "language": "python",
   "name": "python3"
  },
  "language_info": {
   "codemirror_mode": {
    "name": "ipython",
    "version": 3
   },
   "file_extension": ".py",
   "mimetype": "text/x-python",
   "name": "python",
   "nbconvert_exporter": "python",
   "pygments_lexer": "ipython3",
   "version": "3.5.5"
  }
 },
 "nbformat": 4,
 "nbformat_minor": 1
}
